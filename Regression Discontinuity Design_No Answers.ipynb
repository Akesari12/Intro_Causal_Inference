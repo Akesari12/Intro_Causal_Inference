{
 "cells": [
  {
   "cell_type": "markdown",
   "metadata": {},
   "source": [
    "# Introduction to Regression Discontinuity Design"
   ]
  },
  {
   "cell_type": "markdown",
   "metadata": {},
   "source": [
    "Code and data taken from: https://github.com/natematias/research_in_python/blob/master/regression_discontinuity/Regression%20Discontinuity%20Analysis.ipynb"
   ]
  },
  {
   "cell_type": "markdown",
   "metadata": {},
   "source": [
    "**Regression Discontinuity** is a method that makes use of a treatment applied at a cutoff point. It takes advantage of the fact that subjects at either side of the cutoff are not likely to substantially differ from one another on confounders. Thus, any difference in outcomes are only attributable to the intervention itself.\n",
    "\n",
    "In this notebook, we will learn how to implement and visualize a RDD design. We are using data from Joshua Angrist and Victor Lavy's \"Using Maimonides Rule to Estimate the Effect of Class Size on Scholastic Achievement.\" A common question in education and social science research is whether class size has an effect on student performance. At both the K-12 and university level, propnents of smaller class sizes argue that large class sizes cause teachers to divide their time and attention too thinly, and students suffer from the lack of individual attention. Moreover, large class sizes might be more distracting and impede student comprehension and achievement in a number of other ways.\n",
    "\n",
    "In this study, Angrist and Lavy make use of the fact that Israel implemented a rule that automatically split classes if they had more than 40 students. They compared student outcomes for students who were in classes with slightly fewer than 40 students to students who were in classes that were just barely split up. \n",
    "\n",
    "In this analysis, we examine a dataset that includes school level data for:\n",
    "\n",
    "- size: fifth-grade cohort size\n",
    "- intended_classsize: average intended class size for each school\n",
    "- observed_classize: observed average class size for each school\n",
    "- read: average reading achievement in cohort"
   ]
  },
  {
   "cell_type": "code",
   "execution_count": null,
   "metadata": {},
   "outputs": [],
   "source": [
    "# Import modules\n",
    "import pandas as pd\n",
    "import matplotlib.pyplot as plt\n",
    "%matplotlib inline\n",
    "import statsmodels.formula.api as smf "
   ]
  },
  {
   "cell_type": "code",
   "execution_count": null,
   "metadata": {},
   "outputs": [],
   "source": [
    "# Load data\n",
    "class_df = pd.read_sas('angrist.sas7bdat')"
   ]
  },
  {
   "cell_type": "code",
   "execution_count": null,
   "metadata": {},
   "outputs": [],
   "source": [
    "# Explore the data\n"
   ]
  },
  {
   "cell_type": "code",
   "execution_count": null,
   "metadata": {},
   "outputs": [],
   "source": []
  },
  {
   "cell_type": "markdown",
   "metadata": {},
   "source": [
    "### Question 1: What would be the problem with comparing all students in small classes v. all students in large classes? How might students far away from the cutoff differ in important ways?"
   ]
  },
  {
   "cell_type": "markdown",
   "metadata": {},
   "source": []
  },
  {
   "cell_type": "markdown",
   "metadata": {},
   "source": [
    "## Prepare data for analysis"
   ]
  },
  {
   "cell_type": "markdown",
   "metadata": {},
   "source": [
    "The key to a regression discontinuity is that we need to distinguish between units that were given treatment, and units that were under control. The usual approach to doing this is to create dummy indicators for whether an observations falls in the pre- or post- side of the intervention."
   ]
  },
  {
   "cell_type": "markdown",
   "metadata": {},
   "source": [
    "### Question 2: What is a running variable? How does it relate to the treatment cutoff?"
   ]
  },
  {
   "cell_type": "markdown",
   "metadata": {},
   "source": []
  },
  {
   "cell_type": "code",
   "execution_count": null,
   "metadata": {},
   "outputs": [],
   "source": [
    "# Write a function that returns a '1' if a class size is large (>40), and a '0' if it is small (<=40)\n",
    "def small(size):\n",
    "    ...\n",
    "    ...\n",
    "    ...\n",
    "\n",
    "# Create dummy for whether a class size is small, \n",
    "# and csize which measures the difference between observed_classize and the cutoff (41)\n",
    "class_df['small'] = \n",
    "class_df['csize'] = \n",
    "\n",
    "# Summarize the read variable by each class size group\n"
   ]
  },
  {
   "cell_type": "markdown",
   "metadata": {},
   "source": [
    "# Regression Discontinuity"
   ]
  },
  {
   "cell_type": "markdown",
   "metadata": {},
   "source": [
    "Now we're ready to fit a model! Let's narrow the window down to class sizes between 29 and 53, and then estimate the regression."
   ]
  },
  {
   "cell_type": "code",
   "execution_count": null,
   "metadata": {},
   "outputs": [],
   "source": [
    "# Subset the data to size between 29 and 53\n",
    "\n",
    "# Fit OLS model with smf\n",
    "\n",
    "result = smf.ols(formula = ,\n",
    "                data = ).fit()\n",
    "# Print results\n"
   ]
  },
  {
   "cell_type": "code",
   "execution_count": null,
   "metadata": {},
   "outputs": [],
   "source": [
    "# Plot results with cutoff\n"
   ]
  }
 ],
 "metadata": {
  "kernelspec": {
   "display_name": "Python 3",
   "language": "python",
   "name": "python3"
  },
  "language_info": {
   "codemirror_mode": {
    "name": "ipython",
    "version": 3
   },
   "file_extension": ".py",
   "mimetype": "text/x-python",
   "name": "python",
   "nbconvert_exporter": "python",
   "pygments_lexer": "ipython3",
   "version": "3.6.5"
  }
 },
 "nbformat": 4,
 "nbformat_minor": 2
}
