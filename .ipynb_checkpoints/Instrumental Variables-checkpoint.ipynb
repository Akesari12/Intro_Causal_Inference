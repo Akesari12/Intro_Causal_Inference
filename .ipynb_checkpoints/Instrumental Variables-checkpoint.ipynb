{
 "cells": [
  {
   "cell_type": "markdown",
   "metadata": {},
   "source": [
    "# Using Instrumental Variables for Treatment Effects in Quasi-Experiments"
   ]
  },
  {
   "cell_type": "code",
   "execution_count": 17,
   "metadata": {},
   "outputs": [],
   "source": [
    "import pandas as pd\n",
    "import math\n",
    "import statsmodels.formula.api as smf  # for doing statistical regression\n",
    "import statsmodels.api as sm      # access to the wider statsmodels library, including R datasets"
   ]
  },
  {
   "cell_type": "code",
   "execution_count": 7,
   "metadata": {
    "collapsed": true
   },
   "outputs": [],
   "source": [
    "# Import data set\n",
    "voucher_df = pd.read_sas('colvoucher.sas7bdat')\n",
    "voucher_df.head()"
   ]
  },
  {
   "cell_type": "markdown",
   "metadata": {},
   "source": [
    "## Summary Statistics"
   ]
  },
  {
   "cell_type": "code",
   "execution_count": 9,
   "metadata": {},
   "outputs": [
    {
     "name": "stdout",
     "output_type": "stream",
     "text": [
      "==============================================================================\n",
      "                              OVERALL SUMMARY\n",
      "==============================================================================\n",
      "                id   won_lottry         male     base_age    finish8th  \\\n",
      "count  1171.000000  1171.000000  1171.000000  1171.000000  1171.000000   \n",
      "mean   1357.010248     0.505551     0.504697    12.004270     0.681469   \n",
      "std     890.711584     0.500183     0.500192     1.347038     0.466106   \n",
      "min       3.000000     0.000000     0.000000     7.000000     0.000000   \n",
      "25%     616.000000     0.000000     0.000000    11.000000     0.000000   \n",
      "50%    1280.000000     1.000000     1.000000    12.000000     1.000000   \n",
      "75%    1982.500000     1.000000     1.000000    13.000000     1.000000   \n",
      "max    4030.000000     1.000000     1.000000    17.000000     1.000000   \n",
      "\n",
      "       use_fin_aid  \n",
      "count  1171.000000  \n",
      "mean      0.581554  \n",
      "std       0.493515  \n",
      "min       0.000000  \n",
      "25%       0.000000  \n",
      "50%       1.000000  \n",
      "75%       1.000000  \n",
      "max       1.000000  \n",
      "==============================================================================\n",
      "                         USE FINANCIAL AID = 0\n",
      "==============================================================================\n",
      "                id  won_lottry        male    base_age   finish8th  \\\n",
      "count   490.000000  490.000000  490.000000  490.000000  490.000000   \n",
      "mean   1472.571429    0.102041    0.518367   12.097959    0.604082   \n",
      "std     931.468109    0.303011    0.500173    1.388897    0.489547   \n",
      "min       5.000000    0.000000    0.000000    7.000000    0.000000   \n",
      "25%     707.250000    0.000000    0.000000   11.000000    0.000000   \n",
      "50%    1412.500000    0.000000    1.000000   12.000000    1.000000   \n",
      "75%    2103.250000    0.000000    1.000000   13.000000    1.000000   \n",
      "max    4030.000000    1.000000    1.000000   17.000000    1.000000   \n",
      "\n",
      "       use_fin_aid  \n",
      "count        490.0  \n",
      "mean           0.0  \n",
      "std            0.0  \n",
      "min            0.0  \n",
      "25%            0.0  \n",
      "50%            0.0  \n",
      "75%            0.0  \n",
      "max            0.0  \n",
      "==============================================================================\n",
      "                         USE FINANCIAL AID = 1\n",
      "==============================================================================\n",
      "                id  won_lottry        male    base_age   finish8th  \\\n",
      "count   681.000000  681.000000  681.000000  681.000000  681.000000   \n",
      "mean   1273.860499    0.795888    0.494860   11.936858    0.737151   \n",
      "std     851.223236    0.403347    0.500341    1.312992    0.440505   \n",
      "min       3.000000    0.000000    0.000000    9.000000    0.000000   \n",
      "25%     564.000000    1.000000    0.000000   11.000000    0.000000   \n",
      "50%    1168.000000    1.000000    0.000000   12.000000    1.000000   \n",
      "75%    1751.000000    1.000000    1.000000   13.000000    1.000000   \n",
      "max    4023.000000    1.000000    1.000000   16.000000    1.000000   \n",
      "\n",
      "       use_fin_aid  \n",
      "count        681.0  \n",
      "mean           1.0  \n",
      "std            0.0  \n",
      "min            1.0  \n",
      "25%            1.0  \n",
      "50%            1.0  \n",
      "75%            1.0  \n",
      "max            1.0  \n"
     ]
    }
   ],
   "source": [
    "print(\"==============================================================================\")\n",
    "print(\"                              OVERALL SUMMARY\"                                 )\n",
    "print(\"==============================================================================\")\n",
    "\n",
    "print(voucher_df.describe())\n",
    "\n",
    "for i in range(2):\n",
    "    print(\"==============================================================================\")\n",
    "    print(\"                         USE FINANCIAL AID = %(i)d\" % {\"i\":i}                  )\n",
    "    print(\"==============================================================================\")\n",
    "    print(voucher_df[voucher_df['use_fin_aid']==i].describe())"
   ]
  },
  {
   "cell_type": "markdown",
   "metadata": {},
   "source": [
    "## Two Stage Least Squares Estimation"
   ]
  },
  {
   "cell_type": "code",
   "execution_count": 13,
   "metadata": {},
   "outputs": [
    {
     "name": "stdout",
     "output_type": "stream",
     "text": [
      "==============================================================================\n",
      "                                  FIRST STAGE\n",
      "==============================================================================\n",
      "                 Generalized Linear Model Regression Results                  \n",
      "==============================================================================\n",
      "Dep. Variable:            use_fin_aid   No. Observations:                 1171\n",
      "Model:                            GLM   Df Residuals:                     1167\n",
      "Model Family:                Binomial   Df Model:                            3\n",
      "Link Function:                  logit   Scale:                             1.0\n",
      "Method:                          IRLS   Log-Likelihood:                -488.00\n",
      "Date:                Wed, 27 Jun 2018   Deviance:                       975.99\n",
      "Time:                        09:34:51   Pearson chi2:                 1.16e+03\n",
      "No. Iterations:                     5                                         \n",
      "==============================================================================\n",
      "                 coef    std err          z      P>|z|      [0.025      0.975]\n",
      "------------------------------------------------------------------------------\n",
      "Intercept      0.3455      0.731      0.472      0.637      -1.088       1.779\n",
      "won_lottry     3.5514      0.178     19.934      0.000       3.202       3.901\n",
      "male          -0.1622      0.164     -0.992      0.321      -0.483       0.158\n",
      "base_age      -0.1184      0.061     -1.946      0.052      -0.238       0.001\n",
      "==============================================================================\n",
      "\n",
      "\n",
      "==============================================================================\n",
      "                                  SECOND STAGE\n",
      "==============================================================================\n",
      "                 Generalized Linear Model Regression Results                  \n",
      "==============================================================================\n",
      "Dep. Variable:              finish8th   No. Observations:                 1171\n",
      "Model:                            GLM   Df Residuals:                     1167\n",
      "Model Family:                Binomial   Df Model:                            3\n",
      "Link Function:                  logit   Scale:                             1.0\n",
      "Method:                          IRLS   Log-Likelihood:                -696.65\n",
      "Date:                Wed, 27 Jun 2018   Deviance:                       1393.3\n",
      "Time:                        09:34:51   Pearson chi2:                 1.17e+03\n",
      "No. Iterations:                     4                                         \n",
      "======================================================================================\n",
      "                         coef    std err          z      P>|z|      [0.025      0.975]\n",
      "--------------------------------------------------------------------------------------\n",
      "Intercept              4.0756      0.604      6.753      0.000       2.893       5.258\n",
      "use_fin_aid_fitted     0.7743      0.192      4.036      0.000       0.398       1.150\n",
      "male                  -0.4175      0.130     -3.208      0.001      -0.673      -0.162\n",
      "base_age              -0.2919      0.048     -6.077      0.000      -0.386      -0.198\n",
      "======================================================================================\n"
     ]
    }
   ],
   "source": [
    "print(\"==============================================================================\")\n",
    "print(\"                                  FIRST STAGE\"                                 )\n",
    "print(\"==============================================================================\")\n",
    "result = smf.glm(formula = \"use_fin_aid ~ won_lottry + male + base_age\", \n",
    "                 data=voucher_df,\n",
    "                 family=sm.families.Binomial()).fit()\n",
    "voucher_df['use_fin_aid_fitted']= result.predict()\n",
    "print(result.summary())\n",
    "\n",
    "print()\n",
    "print()\n",
    "print(\"==============================================================================\")\n",
    "print(\"                                  SECOND STAGE\"                                )\n",
    "print(\"==============================================================================\")\n",
    "result = smf.glm(formula = \" finish8th ~ use_fin_aid_fitted + male + base_age\", \n",
    "                 data=voucher_df,\n",
    "                 family=sm.families.Binomial()).fit()\n",
    "print(result.summary())"
   ]
  },
  {
   "cell_type": "code",
   "execution_count": 22,
   "metadata": {},
   "outputs": [
    {
     "name": "stdout",
     "output_type": "stream",
     "text": [
      "Those using financial aid are 2.169073 times more likely to finish the 8th grade!\n"
     ]
    }
   ],
   "source": [
    "# Transforming the log-odds units into odds ratio\n",
    "print(\"Those using financial aid are {:2f} times more likely to finish the 8th grade!\".format(math.exp(0.7743)))"
   ]
  },
  {
   "cell_type": "code",
   "execution_count": null,
   "metadata": {
    "collapsed": true
   },
   "outputs": [],
   "source": []
  }
 ],
 "metadata": {
  "kernelspec": {
   "display_name": "Python 3",
   "language": "python",
   "name": "python3"
  },
  "language_info": {
   "codemirror_mode": {
    "name": "ipython",
    "version": 3
   },
   "file_extension": ".py",
   "mimetype": "text/x-python",
   "name": "python",
   "nbconvert_exporter": "python",
   "pygments_lexer": "ipython3",
   "version": "3.6.3"
  }
 },
 "nbformat": 4,
 "nbformat_minor": 2
}
