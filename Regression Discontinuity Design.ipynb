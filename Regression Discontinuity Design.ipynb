{
 "cells": [
  {
   "cell_type": "markdown",
   "metadata": {},
   "source": [
    "# Introduction to Regression Discontinuity Design"
   ]
  },
  {
   "cell_type": "markdown",
   "metadata": {},
   "source": [
    "Code and data taken from: https://github.com/natematias/research_in_python/blob/master/regression_discontinuity/Regression%20Discontinuity%20Analysis.ipynb"
   ]
  },
  {
   "cell_type": "markdown",
   "metadata": {},
   "source": [
    "**Regression Discontinuity** is a method that makes use of a treatment applied at a cutoff point. It takes advantage of the fact that subjects at either side of the cutoff are not likely to substantially differ from one another on confounders. Thus, any difference in outcomes are only attributable to the intervention itself.\n",
    "\n",
    "In this notebook, we will learn how to implement and visualize a RDD design. We are using data from Joshua Angrist and Victor Lavy's \"Using Maimonides Rule to Estimate the Effect of Class Size on Scholastic Achievement.\" A common question in education and social science research is whether class size has an effect on student performance. At both the K-12 and university level, propnents of smaller class sizes argue that large class sizes cause teachers to divide their time and attention too thinly, and students suffer from the lack of individual attention. Moreover, large class sizes might be more distracting and impede student comprehension and achievement in a number of other ways.\n",
    "\n",
    "In this study, Angrist and Lavy make use of the fact that Israel implemented a rule that automatically split classes if they had more than 40 students. They compared student outcomes for students who were in classes with slightly fewer than 40 students to students who were in classes that were just barely split up. \n",
    "\n",
    "In this analysis, we examine a dataset that includes school level data for:\n",
    "\n",
    "- size: fifth-grade cohort size\n",
    "- intended_classsize: average intended class size for each school\n",
    "- observed_classize: observed average class size for each school\n",
    "- read: average reading achievement in cohort"
   ]
  },
  {
   "cell_type": "code",
   "execution_count": 1,
   "metadata": {},
   "outputs": [],
   "source": [
    "# Import modules\n",
    "import pandas as pd\n",
    "import matplotlib.pyplot as plt\n",
    "%matplotlib inline\n",
    "import statsmodels.formula.api as smf "
   ]
  },
  {
   "cell_type": "code",
   "execution_count": 2,
   "metadata": {},
   "outputs": [],
   "source": [
    "# Load data\n",
    "class_df = pd.read_sas('angrist.sas7bdat')"
   ]
  },
  {
   "cell_type": "code",
   "execution_count": 3,
   "metadata": {},
   "outputs": [
    {
     "data": {
      "text/html": [
       "<div>\n",
       "<style scoped>\n",
       "    .dataframe tbody tr th:only-of-type {\n",
       "        vertical-align: middle;\n",
       "    }\n",
       "\n",
       "    .dataframe tbody tr th {\n",
       "        vertical-align: top;\n",
       "    }\n",
       "\n",
       "    .dataframe thead th {\n",
       "        text-align: right;\n",
       "    }\n",
       "</style>\n",
       "<table border=\"1\" class=\"dataframe\">\n",
       "  <thead>\n",
       "    <tr style=\"text-align: right;\">\n",
       "      <th></th>\n",
       "      <th>read</th>\n",
       "      <th>size</th>\n",
       "      <th>intended_classize</th>\n",
       "      <th>observed_classize</th>\n",
       "    </tr>\n",
       "  </thead>\n",
       "  <tbody>\n",
       "    <tr>\n",
       "      <th>0</th>\n",
       "      <td>58.000000</td>\n",
       "      <td>8.0</td>\n",
       "      <td>8.0</td>\n",
       "      <td>8.0</td>\n",
       "    </tr>\n",
       "    <tr>\n",
       "      <th>1</th>\n",
       "      <td>82.629997</td>\n",
       "      <td>9.0</td>\n",
       "      <td>9.0</td>\n",
       "      <td>9.0</td>\n",
       "    </tr>\n",
       "    <tr>\n",
       "      <th>2</th>\n",
       "      <td>46.330002</td>\n",
       "      <td>9.0</td>\n",
       "      <td>9.0</td>\n",
       "      <td>9.0</td>\n",
       "    </tr>\n",
       "    <tr>\n",
       "      <th>3</th>\n",
       "      <td>66.559998</td>\n",
       "      <td>9.0</td>\n",
       "      <td>9.0</td>\n",
       "      <td>11.0</td>\n",
       "    </tr>\n",
       "    <tr>\n",
       "      <th>4</th>\n",
       "      <td>75.000000</td>\n",
       "      <td>10.0</td>\n",
       "      <td>10.0</td>\n",
       "      <td>10.0</td>\n",
       "    </tr>\n",
       "  </tbody>\n",
       "</table>\n",
       "</div>"
      ],
      "text/plain": [
       "        read  size  intended_classize  observed_classize\n",
       "0  58.000000   8.0                8.0                8.0\n",
       "1  82.629997   9.0                9.0                9.0\n",
       "2  46.330002   9.0                9.0                9.0\n",
       "3  66.559998   9.0                9.0               11.0\n",
       "4  75.000000  10.0               10.0               10.0"
      ]
     },
     "execution_count": 3,
     "metadata": {},
     "output_type": "execute_result"
    }
   ],
   "source": [
    "# Explore the data\n",
    "class_df.head()"
   ]
  },
  {
   "cell_type": "code",
   "execution_count": 4,
   "metadata": {},
   "outputs": [
    {
     "data": {
      "text/html": [
       "<div>\n",
       "<style scoped>\n",
       "    .dataframe tbody tr th:only-of-type {\n",
       "        vertical-align: middle;\n",
       "    }\n",
       "\n",
       "    .dataframe tbody tr th {\n",
       "        vertical-align: top;\n",
       "    }\n",
       "\n",
       "    .dataframe thead th {\n",
       "        text-align: right;\n",
       "    }\n",
       "</style>\n",
       "<table border=\"1\" class=\"dataframe\">\n",
       "  <thead>\n",
       "    <tr style=\"text-align: right;\">\n",
       "      <th></th>\n",
       "      <th>read</th>\n",
       "      <th>size</th>\n",
       "      <th>intended_classize</th>\n",
       "      <th>observed_classize</th>\n",
       "    </tr>\n",
       "  </thead>\n",
       "  <tbody>\n",
       "    <tr>\n",
       "      <th>count</th>\n",
       "      <td>2019.000000</td>\n",
       "      <td>2019.000000</td>\n",
       "      <td>2019.000000</td>\n",
       "      <td>2019.000000</td>\n",
       "    </tr>\n",
       "    <tr>\n",
       "      <th>mean</th>\n",
       "      <td>74.379171</td>\n",
       "      <td>77.741951</td>\n",
       "      <td>30.955935</td>\n",
       "      <td>29.935116</td>\n",
       "    </tr>\n",
       "    <tr>\n",
       "      <th>std</th>\n",
       "      <td>7.678460</td>\n",
       "      <td>38.810731</td>\n",
       "      <td>6.107924</td>\n",
       "      <td>6.545885</td>\n",
       "    </tr>\n",
       "    <tr>\n",
       "      <th>min</th>\n",
       "      <td>34.799999</td>\n",
       "      <td>8.000000</td>\n",
       "      <td>8.000000</td>\n",
       "      <td>8.000000</td>\n",
       "    </tr>\n",
       "    <tr>\n",
       "      <th>25%</th>\n",
       "      <td>69.855000</td>\n",
       "      <td>50.000000</td>\n",
       "      <td>27.000000</td>\n",
       "      <td>26.000000</td>\n",
       "    </tr>\n",
       "    <tr>\n",
       "      <th>50%</th>\n",
       "      <td>75.379997</td>\n",
       "      <td>72.000000</td>\n",
       "      <td>31.666666</td>\n",
       "      <td>31.000000</td>\n",
       "    </tr>\n",
       "    <tr>\n",
       "      <th>75%</th>\n",
       "      <td>79.839996</td>\n",
       "      <td>100.000000</td>\n",
       "      <td>35.666668</td>\n",
       "      <td>35.000000</td>\n",
       "    </tr>\n",
       "    <tr>\n",
       "      <th>max</th>\n",
       "      <td>93.860001</td>\n",
       "      <td>226.000000</td>\n",
       "      <td>40.000000</td>\n",
       "      <td>44.000000</td>\n",
       "    </tr>\n",
       "  </tbody>\n",
       "</table>\n",
       "</div>"
      ],
      "text/plain": [
       "              read         size  intended_classize  observed_classize\n",
       "count  2019.000000  2019.000000        2019.000000        2019.000000\n",
       "mean     74.379171    77.741951          30.955935          29.935116\n",
       "std       7.678460    38.810731           6.107924           6.545885\n",
       "min      34.799999     8.000000           8.000000           8.000000\n",
       "25%      69.855000    50.000000          27.000000          26.000000\n",
       "50%      75.379997    72.000000          31.666666          31.000000\n",
       "75%      79.839996   100.000000          35.666668          35.000000\n",
       "max      93.860001   226.000000          40.000000          44.000000"
      ]
     },
     "execution_count": 4,
     "metadata": {},
     "output_type": "execute_result"
    }
   ],
   "source": [
    "class_df.describe()"
   ]
  },
  {
   "cell_type": "markdown",
   "metadata": {},
   "source": [
    "### Question 1: What would be the problem with comparing all students in small classes v. all students in large classes? How might students far away from the cutoff differ in important ways?"
   ]
  },
  {
   "cell_type": "markdown",
   "metadata": {},
   "source": []
  },
  {
   "cell_type": "markdown",
   "metadata": {},
   "source": [
    "## Prepare data for analysis"
   ]
  },
  {
   "cell_type": "markdown",
   "metadata": {},
   "source": [
    "The key to a regression discontinuity is that we need to distinguish between units that were given treatment, and units that were under control. The usual approach to doing this is to create dummy indicators for whether an observations falls in the pre- or post- side of the intervention."
   ]
  },
  {
   "cell_type": "markdown",
   "metadata": {},
   "source": [
    "### Question 2: What is a running variable? How does it relate to the treatment cutoff?"
   ]
  },
  {
   "cell_type": "markdown",
   "metadata": {},
   "source": []
  },
  {
   "cell_type": "code",
   "execution_count": 5,
   "metadata": {},
   "outputs": [
    {
     "data": {
      "text/plain": [
       "<matplotlib.axes._subplots.AxesSubplot at 0x21fa73b7da0>"
      ]
     },
     "execution_count": 5,
     "metadata": {},
     "output_type": "execute_result"
    },
    {
     "data": {
      "image/png": "[encoded data removed]",
      "text/plain": [
       "<Figure size 432x288 with 1 Axes>"
      ]
     },
     "metadata": {},
     "output_type": "display_data"
    }
   ],
   "source": [
    "# Write a function that returns a '1' if a class size is large (>40), and a '0' if it is small (<=40)\n",
    "\n",
    "def small(size):\n",
    "    if(size >= 41):\n",
    "        return 1\n",
    "    return 0\n",
    "\n",
    "# Create dummy for whether a class size is small, and csize which measures the difference between observed_classize and the cutoff (41)\n",
    "class_df['small'] = class_df['size'].map(small)\n",
    "class_df['csize'] = class_df['size'].map(lambda x: x-41)\n",
    "\n",
    "# summarize the read variable by each class size group\n",
    "class_df[(class_df['size'] >= 36) & (class_df['size'] <= 46)].boxplot('read', 'csize')"
   ]
  },
  {
   "cell_type": "code",
   "execution_count": 9,
   "metadata": {},
   "outputs": [
    {
     "data": {
      "text/html": [
       "<div>\n",
       "<style scoped>\n",
       "    .dataframe tbody tr th:only-of-type {\n",
       "        vertical-align: middle;\n",
       "    }\n",
       "\n",
       "    .dataframe tbody tr th {\n",
       "        vertical-align: top;\n",
       "    }\n",
       "\n",
       "    .dataframe thead th {\n",
       "        text-align: right;\n",
       "    }\n",
       "</style>\n",
       "<table border=\"1\" class=\"dataframe\">\n",
       "  <thead>\n",
       "    <tr style=\"text-align: right;\">\n",
       "      <th></th>\n",
       "      <th>read</th>\n",
       "      <th>size</th>\n",
       "      <th>intended_classize</th>\n",
       "      <th>observed_classize</th>\n",
       "      <th>small</th>\n",
       "      <th>csize</th>\n",
       "    </tr>\n",
       "  </thead>\n",
       "  <tbody>\n",
       "    <tr>\n",
       "      <th>0</th>\n",
       "      <td>58.000000</td>\n",
       "      <td>8.0</td>\n",
       "      <td>8.0</td>\n",
       "      <td>8.0</td>\n",
       "      <td>0</td>\n",
       "      <td>-33.0</td>\n",
       "    </tr>\n",
       "    <tr>\n",
       "      <th>1</th>\n",
       "      <td>82.629997</td>\n",
       "      <td>9.0</td>\n",
       "      <td>9.0</td>\n",
       "      <td>9.0</td>\n",
       "      <td>0</td>\n",
       "      <td>-32.0</td>\n",
       "    </tr>\n",
       "    <tr>\n",
       "      <th>2</th>\n",
       "      <td>46.330002</td>\n",
       "      <td>9.0</td>\n",
       "      <td>9.0</td>\n",
       "      <td>9.0</td>\n",
       "      <td>0</td>\n",
       "      <td>-32.0</td>\n",
       "    </tr>\n",
       "    <tr>\n",
       "      <th>3</th>\n",
       "      <td>66.559998</td>\n",
       "      <td>9.0</td>\n",
       "      <td>9.0</td>\n",
       "      <td>11.0</td>\n",
       "      <td>0</td>\n",
       "      <td>-32.0</td>\n",
       "    </tr>\n",
       "    <tr>\n",
       "      <th>4</th>\n",
       "      <td>75.000000</td>\n",
       "      <td>10.0</td>\n",
       "      <td>10.0</td>\n",
       "      <td>10.0</td>\n",
       "      <td>0</td>\n",
       "      <td>-31.0</td>\n",
       "    </tr>\n",
       "  </tbody>\n",
       "</table>\n",
       "</div>"
      ],
      "text/plain": [
       "        read  size  intended_classize  observed_classize  small  csize\n",
       "0  58.000000   8.0                8.0                8.0      0  -33.0\n",
       "1  82.629997   9.0                9.0                9.0      0  -32.0\n",
       "2  46.330002   9.0                9.0                9.0      0  -32.0\n",
       "3  66.559998   9.0                9.0               11.0      0  -32.0\n",
       "4  75.000000  10.0               10.0               10.0      0  -31.0"
      ]
     },
     "execution_count": 9,
     "metadata": {},
     "output_type": "execute_result"
    }
   ],
   "source": [
    "class_df.head()"
   ]
  },
  {
   "cell_type": "markdown",
   "metadata": {},
   "source": [
    "# Regression Discontinuity"
   ]
  },
  {
   "cell_type": "markdown",
   "metadata": {},
   "source": [
    "Now we're ready to fit a model! Let's narrow the window down to class sizes between 29 and 53, and then estimate the regression."
   ]
  },
  {
   "cell_type": "code",
   "execution_count": 6,
   "metadata": {},
   "outputs": [
    {
     "name": "stdout",
     "output_type": "stream",
     "text": [
      "                            OLS Regression Results                            \n",
      "==============================================================================\n",
      "Dep. Variable:                   read   R-squared:                       0.015\n",
      "Model:                            OLS   Adj. R-squared:                  0.010\n",
      "Method:                 Least Squares   F-statistic:                     3.103\n",
      "Date:                Tue, 26 Jun 2018   Prob (F-statistic):             0.0459\n",
      "Time:                        17:37:33   Log-Likelihood:                -1536.6\n",
      "No. Observations:                 423   AIC:                             3079.\n",
      "Df Residuals:                     420   BIC:                             3091.\n",
      "Df Model:                           2                                         \n",
      "Covariance Type:            nonrobust                                         \n",
      "==============================================================================\n",
      "                 coef    std err          t      P>|t|      [0.025      0.975]\n",
      "------------------------------------------------------------------------------\n",
      "Intercept     70.1188      1.151     60.908      0.000      67.856      72.382\n",
      "csize         -0.1392      0.119     -1.168      0.243      -0.373       0.095\n",
      "small          3.9531      1.800      2.197      0.029       0.416       7.491\n",
      "==============================================================================\n",
      "Omnibus:                       34.356   Durbin-Watson:                   1.967\n",
      "Prob(Omnibus):                  0.000   Jarque-Bera (JB):               40.549\n",
      "Skew:                          -0.711   Prob(JB):                     1.57e-09\n",
      "Kurtosis:                       3.529   Cond. No.                         34.2\n",
      "==============================================================================\n",
      "\n",
      "Warnings:\n",
      "[1] Standard Errors assume that the covariance matrix of the errors is correctly specified.\n"
     ]
    }
   ],
   "source": [
    "# Subset the data to size between 29 and 53\n",
    "window = class_df[(class_df['size'] >= 29) & (class_df['size'] <= 53)]\n",
    "\n",
    "# Fit OLS model with smf\n",
    "result = smf.ols(formula = 'read ~ csize + small',\n",
    "                data = window).fit()\n",
    "\n",
    "# Print results\n",
    "print(result.summary())"
   ]
  },
  {
   "cell_type": "code",
   "execution_count": 7,
   "metadata": {},
   "outputs": [
    {
     "data": {
      "text/plain": [
       "Text(0.5,1,'Regression Discontinuity: Reading Scores by Class Size Before and After the Cutoff')"
      ]
     },
     "execution_count": 7,
     "metadata": {},
     "output_type": "execute_result"
    },
    {
     "data": {
      "image/png": "[encoded data removed]",
      "text/plain": [
       "<Figure size 960x480 with 1 Axes>"
      ]
     },
     "metadata": {},
     "output_type": "display_data"
    }
   ],
   "source": [
    "# Plot results with cutoff\n",
    "\n",
    "plt.figure(num = None, figsize = (12, 6), dpi = 80, facecolor = 'w', edgecolor = 'k')\n",
    "plt.scatter(window.csize, window.read, color = 'blue')\n",
    "l = window[window.csize < 0].csize.count()\n",
    "plt.plot(window.csize[0:l], result.predict()[0:l], '-', color = \"r\")\n",
    "plt.plot(window.csize[l:], result.predict()[l:], '-', color = \"r\")\n",
    "plt.axvline(x = -.5, color = 'black', linestyle = '--')\n",
    "plt.title(\"Regression Discontinuity: Reading Scores by Class Size Before and After the Cutoff\", fontsize = \"18\")"
   ]
  }
 ],
 "metadata": {
  "kernelspec": {
   "display_name": "Python 3",
   "language": "python",
   "name": "python3"
  },
  "language_info": {
   "codemirror_mode": {
    "name": "ipython",
    "version": 3
   },
   "file_extension": ".py",
   "mimetype": "text/x-python",
   "name": "python",
   "nbconvert_exporter": "python",
   "pygments_lexer": "ipython3",
   "version": "3.6.5"
  }
 },
 "nbformat": 4,
 "nbformat_minor": 2
}
